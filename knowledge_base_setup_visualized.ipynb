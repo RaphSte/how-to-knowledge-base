{
 "cells": [
  {
   "cell_type": "code",
   "id": "initial_id",
   "metadata": {
    "collapsed": true
   },
   "source": [
    "import os\n",
    "from facts import cat_facts, dog_facts, python_language_facts, python_snake_facts, lion_facts\n",
    "from open_ai_connector import OpenAiConnector\n",
    "from dotenv import load_dotenv\n",
    "import pandas as pd\n",
    "from sklearn.manifold import TSNE\n",
    "from sklearn.metrics.pairwise import cosine_distances\n",
    "import numpy as np\n",
    "from visualizer import Visualizer\n",
    "\n",
    "load_dotenv()"
   ],
   "outputs": [],
   "execution_count": null
  },
  {
   "metadata": {},
   "cell_type": "code",
   "source": [
    "#setup\n",
    "llm = OpenAiConnector(os.getenv(\"OPENAI_API_KEY\"))"
   ],
   "id": "f64e5f6a5a10bc7c",
   "outputs": [],
   "execution_count": null
  },
  {
   "metadata": {},
   "cell_type": "code",
   "source": "llm.text_completion(\"Say hello to ThaiPy!\")",
   "id": "6dc1665aec6e656e",
   "outputs": [],
   "execution_count": null
  },
  {
   "metadata": {},
   "cell_type": "markdown",
   "source": "## Step 1 - Review and prepare data",
   "id": "f099f1fb73e93841"
  },
  {
   "metadata": {},
   "cell_type": "code",
   "source": [
    "facts_dict = {\n",
    "    \"python_language_facts\": python_language_facts,\n",
    "    \"python_snake_facts\": python_snake_facts,\n",
    "    \"dog_facts\": dog_facts,\n",
    "    \"cat_facts\": cat_facts\n",
    "}\n",
    "\n",
    "# Create a dataframe with our data\n",
    "facts_list = [(category, fact) for category, facts in facts_dict.items() for fact in facts]\n",
    "df = pd.DataFrame(facts_list, columns=[\"category\", \"fact\"])\n",
    "df"
   ],
   "id": "d31a9146d2b8742e",
   "outputs": [],
   "execution_count": null
  },
  {
   "metadata": {},
   "cell_type": "markdown",
   "source": "## Step 2 -Embeddings",
   "id": "b7c3192188ece4e2"
  },
  {
   "metadata": {},
   "cell_type": "code",
   "source": [
    "embeddings = llm.batch_embed(df['fact'].tolist())\n",
    "df_with_embeddings = df.assign(embedding=embeddings)\n"
   ],
   "id": "8d2fdef9085ac86",
   "outputs": [],
   "execution_count": null
  },
  {
   "metadata": {},
   "cell_type": "code",
   "source": "embeddings",
   "id": "2ecf33dce324ea1a",
   "outputs": [],
   "execution_count": null
  },
  {
   "metadata": {},
   "cell_type": "code",
   "source": "",
   "id": "367b5a961583a3e6",
   "outputs": [],
   "execution_count": null
  },
  {
   "metadata": {},
   "cell_type": "markdown",
   "source": "## Step 3 - Dimension reduction and visualization",
   "id": "67ff00760261d128"
  },
  {
   "metadata": {},
   "cell_type": "markdown",
   "source": "### this is done with the \"T-distributed stochastic neighbor embedding\" TSNE algorithm",
   "id": "3431dfe1becb5aa6"
  },
  {
   "metadata": {},
   "cell_type": "code",
   "source": [
    "def reduce_dimensions(embeddings, dimensions=2):\n",
    "    tsne = TSNE(n_components=dimensions, random_state=42, init=\"pca\")\n",
    "    reduced_embeddings = tsne.fit_transform(embeddings)\n",
    "    return reduced_embeddings\n",
    "\n",
    "\n",
    "reduced_embeddings_2d = reduce_dimensions(embeddings=np.array(embeddings), dimensions=2)\n",
    "df_with_2d_embeddings = df.assign(x=reduced_embeddings_2d[:, 0], y=reduced_embeddings_2d[:, 1])"
   ],
   "id": "aabfb527426a6a57",
   "outputs": [],
   "execution_count": null
  },
  {
   "metadata": {},
   "cell_type": "markdown",
   "source": "### Inspect the data",
   "id": "71d827f71a9be764"
  },
  {
   "metadata": {},
   "cell_type": "code",
   "source": "reduced_embeddings_2d[:3]",
   "id": "863b8a4f7e02aacf",
   "outputs": [],
   "execution_count": null
  },
  {
   "metadata": {},
   "cell_type": "code",
   "source": "df_with_2d_embeddings.head(3)",
   "id": "7ca1b0c6b385c964",
   "outputs": [],
   "execution_count": null
  },
  {
   "metadata": {},
   "cell_type": "code",
   "source": "Visualizer.scatter(df_with_2d_embeddings)",
   "id": "aef24e4018a9fc8a",
   "outputs": [],
   "execution_count": null
  },
  {
   "metadata": {},
   "cell_type": "markdown",
   "source": "### Lets try 3 dimensions, just for fun",
   "id": "f53ccfc591ee0b89"
  },
  {
   "metadata": {},
   "cell_type": "code",
   "source": [
    "reduced_embeddings_3d = reduce_dimensions(embeddings=np.array(embeddings), dimensions=3)\n",
    "df_with_3d_embeddings = df.assign(\n",
    "    x=reduced_embeddings_3d[:, 0],\n",
    "    y=reduced_embeddings_3d[:, 1],\n",
    "    z=reduced_embeddings_3d[:, 2]\n",
    ")\n"
   ],
   "id": "30a9659a75fe8a23",
   "outputs": [],
   "execution_count": null
  },
  {
   "metadata": {},
   "cell_type": "code",
   "source": "Visualizer.scatter(df_with_3d_embeddings)",
   "id": "307e2818cd1d9424",
   "outputs": [],
   "execution_count": null
  },
  {
   "metadata": {},
   "cell_type": "markdown",
   "source": "## Step 4 - create some utils",
   "id": "a091bbfd22a5a8e3"
  },
  {
   "metadata": {},
   "cell_type": "code",
   "source": [
    "def add_texts_to_df_and_plot(texts, category, df_to_add_to, llm, dimensions=2, is_visualization_enabled=True):\n",
    "    embedded_texts = llm.batch_embed(texts)\n",
    "    new_data = {\n",
    "        'category': [category] * len(texts),\n",
    "        'fact': texts,\n",
    "        'embedding': embedded_texts\n",
    "    }\n",
    "    new_df = pd.DataFrame(new_data)\n",
    "    combined_df = pd.concat([df_to_add_to, new_df], ignore_index=True)\n",
    "    all_embeddings = combined_df['embedding'].tolist()\n",
    "    reduced_embeddings = reduce_dimensions(np.array(all_embeddings), dimensions)\n",
    "    combined_df[['x', 'y']] = reduced_embeddings\n",
    "\n",
    "    if is_visualization_enabled:\n",
    "        Visualizer.scatter(combined_df)\n",
    "    return embedded_texts, combined_df\n",
    "\n",
    "\n",
    "embedded_texts, df_with_lion_facts = add_texts_to_df_and_plot(lion_facts, \"lion_facts\", df_with_embeddings, llm)\n"
   ],
   "id": "310762d508274c51",
   "outputs": [],
   "execution_count": null
  },
  {
   "metadata": {},
   "cell_type": "markdown",
   "source": "note - different texts with the same/similar meaning will be aligned close to each other",
   "id": "5b8ecf5ea14b2e04"
  },
  {
   "metadata": {},
   "cell_type": "code",
   "source": [
    "question_embedding, result = add_texts_to_df_and_plot([\"how much sleep a cat need\"], \"question\", df_with_lion_facts, llm)\n",
    "#question_embedding, result = add_texts_to_df_and_plot([\"how much resting time does a cat need\"], \"question\", df_with_lion_facts, llm)\n",
    "\n",
    "\n",
    "#even something absurd like this\n",
    "#question_embedding, result = add_texts_to_df_and_plot([\"what is the quantity of time being not awake for a meowing 4 legged mammal to have\"], \"question\", df_with_lion_facts, llm)"
   ],
   "id": "3b93dcd9234c6071",
   "outputs": [],
   "execution_count": null
  },
  {
   "metadata": {},
   "cell_type": "markdown",
   "source": "## Step 5 - calculate distances",
   "id": "1775103bc9744a3e"
  },
  {
   "metadata": {},
   "cell_type": "code",
   "source": [
    "#result.iloc[53]\n",
    "#cosine_distances(question_embedding, [result['embedding'][53]])\n",
    "\n",
    "distance_list = cosine_distances(question_embedding, result['embedding'].tolist())[0].tolist()\n",
    "distance_list"
   ],
   "id": "997dc9f5e2db718d",
   "outputs": [],
   "execution_count": null
  },
  {
   "metadata": {},
   "cell_type": "code",
   "source": "",
   "id": "5b772df19177fc68",
   "outputs": [],
   "execution_count": null
  },
  {
   "metadata": {},
   "cell_type": "code",
   "source": [
    "\n",
    "df_with_distances = result.assign(distance=distance_list)\n",
    "df_with_distances.sort_values(by='distance', inplace=True)\n",
    "\n",
    "df_with_distances[['fact', 'distance']]\n",
    "\n"
   ],
   "id": "ce7fac865359aa5d",
   "outputs": [],
   "execution_count": null
  },
  {
   "metadata": {},
   "cell_type": "markdown",
   "source": "## Final step - put it all together",
   "id": "50846bff0995e79c"
  },
  {
   "metadata": {},
   "cell_type": "code",
   "source": [
    "def get_n_closest_texts(question, df, n=8, llm=llm):\n",
    "    question_embedding, result = add_texts_to_df_and_plot([question], \"question\", df, llm)\n",
    "    distance_list = cosine_distances(question_embedding, result['embedding'].tolist())[0].tolist()\n",
    "    df_with_distances = result.assign(distance=distance_list)\n",
    "    df_with_distances.sort_values(by='distance', inplace=True)\n",
    "    return df_with_distances['fact'].tolist()[:n]\n",
    "\n",
    "\n",
    "def ask_contexted_questions(question, related_texts, llm=llm):\n",
    "    prompt = f\"\"\"\n",
    "    Context: {related_texts}\n",
    "\n",
    "    Based on the context above, answer the following question.\n",
    "    If the answer is in the context, include the provided context pieces in your answer:\n",
    "\n",
    "    Question: {question}\\nAnswer:\"\"\"\n",
    "    return llm.text_completion(prompt)\n",
    "\n",
    "\n",
    "def execute_visualized_rag(question, context_df, llm=llm):\n",
    "    n_closest_texts = get_n_closest_texts(question, context_df)\n",
    "\n",
    "    print(\"RAG-Answer:\\n##############\")\n",
    "    print(ask_contexted_questions(question, related_texts=n_closest_texts, llm=llm))\n",
    "    print(\"##############\")\n",
    "    for text in n_closest_texts:\n",
    "        print(text)\n",
    "\n"
   ],
   "id": "a8c26e42f2307a6e",
   "outputs": [],
   "execution_count": null
  },
  {
   "metadata": {},
   "cell_type": "code",
   "source": "execute_visualized_rag(\"how much sleep a cat need\", context_df=df_with_lion_facts)",
   "id": "88cda156aed4afc3",
   "outputs": [],
   "execution_count": null
  },
  {
   "metadata": {},
   "cell_type": "code",
   "source": "execute_visualized_rag(\"what is isaac newton known for?\", context_df=df_with_lion_facts)",
   "id": "15a804627028b85d",
   "outputs": [],
   "execution_count": null
  },
  {
   "metadata": {},
   "cell_type": "code",
   "source": "",
   "id": "53aca82d61aabea2",
   "outputs": [],
   "execution_count": null
  },
  {
   "metadata": {},
   "cell_type": "code",
   "source": [
    "from facts import thaipy_facts\n",
    "embedded_thaipy_facts, df_with_thaipy_facts = add_texts_to_df_and_plot(thaipy_facts, \"thaipy_facts\", df_with_lion_facts, llm, is_visualization_enabled=False)"
   ],
   "id": "35a55a6fd0e777ed",
   "outputs": [],
   "execution_count": null
  },
  {
   "metadata": {},
   "cell_type": "code",
   "source": "execute_visualized_rag(\"what is thaipy\", context_df=df_with_thaipy_facts)",
   "id": "aa33e862473bba84",
   "outputs": [],
   "execution_count": null
  }
 ],
 "metadata": {
  "kernelspec": {
   "display_name": "Python 3",
   "language": "python",
   "name": "python3"
  },
  "language_info": {
   "codemirror_mode": {
    "name": "ipython",
    "version": 2
   },
   "file_extension": ".py",
   "mimetype": "text/x-python",
   "name": "python",
   "nbconvert_exporter": "python",
   "pygments_lexer": "ipython2",
   "version": "2.7.6"
  }
 },
 "nbformat": 4,
 "nbformat_minor": 5
}
